{
  "nbformat": 4,
  "nbformat_minor": 0,
  "metadata": {
    "colab": {
      "provenance": [],
      "include_colab_link": true
    },
    "kernelspec": {
      "name": "python3",
      "display_name": "Python 3"
    },
    "language_info": {
      "name": "python"
    }
  },
  "cells": [
    {
      "cell_type": "markdown",
      "metadata": {
        "id": "view-in-github",
        "colab_type": "text"
      },
      "source": [
        "<a href=\"https://colab.research.google.com/github/nguyenminhduc0233/NguyenMinhDuc_ML_2023/blob/main/Lab_5_20130233_NguyenMinhDuc.ipynb\" target=\"_parent\"><img src=\"https://colab.research.google.com/assets/colab-badge.svg\" alt=\"Open In Colab\"/></a>"
      ]
    },
    {
      "cell_type": "markdown",
      "source": [
        "# This lab is to deal with **SVM** to classification tasks and compare its performance with other competitive algorithms. In general, **SVM** is one of the most popular and widely used supervised machine learning algorithms.\n",
        "\n",
        "*   **Deadline: 23:59, 17/03/2023**\n",
        "\n"
      ],
      "metadata": {
        "id": "LMzehe0sy5wr"
      }
    },
    {
      "cell_type": "markdown",
      "source": [
        "# Import libraries"
      ],
      "metadata": {
        "id": "H4nJmxp9zGX4"
      }
    },
    {
      "cell_type": "code",
      "execution_count": 1,
      "metadata": {
        "id": "DoVWQ8AEyc-C"
      },
      "outputs": [],
      "source": [
        "from sklearn import datasets\n",
        "from sklearn.model_selection import train_test_split\n",
        "from sklearn import svm\n",
        "from sklearn import metrics\n",
        "from sklearn.tree import DecisionTreeClassifier\n",
        "from sklearn.linear_model import LogisticRegression\n",
        "from sklearn.neighbors import KNeighborsClassifier\n",
        "from prettytable import PrettyTable"
      ]
    },
    {
      "cell_type": "markdown",
      "source": [
        "#Task 1. \n",
        "For breast cancer dataset (https://tinyurl.com/3vme8hr3) which could be loaded from datasets in sklearn as follows:\n",
        "\n",
        "```\n",
        "#Import scikit-learn dataset library\n",
        "from sklearn import datasets\n",
        "\n",
        "#Load dataset\n",
        "cancer = datasets.load_breast_cancer()\n",
        "```\n",
        "\n",
        "*   1.1.\tApply SVM algorithm to above dataset using linear kernel.\n",
        "*   1.2.\tCompare the obtained results with other competitive algorithms (Logistic Regression, Decision Tree, kNN) based on metrics: accuracy, precision, recall, f1 measures.\n",
        "\n"
      ],
      "metadata": {
        "id": "kNv07ARGzOUm"
      }
    },
    {
      "cell_type": "code",
      "source": [
        "from IPython.core.prefilter import MacroChecker\n",
        "cancer = datasets.load_breast_cancer()\n",
        "X = cancer.data\n",
        "y = cancer.target\n",
        "X_train, X_test, y_train, y_test = train_test_split(X, y, test_size = 0.3, random_state = 1)\n",
        "clf = svm.SVC(kernel='linear')\n",
        "clf.fit(X_train, y_train)\n",
        "y_pred = clf.predict(X_test)\n",
        "acc_smv = round((metrics.accuracy_score(y_test, y_pred)),4)\n",
        "precision_smv = round((metrics.precision_score(y_test, y_pred, average = 'macro')),4)\n",
        "f1_smv = round((metrics.f1_score(y_test, y_pred, average = 'macro')),4)\n",
        "recall_smv = round((metrics.recall_score(y_test, y_pred, average = 'macro')),4)\n",
        "\n",
        "classifier = LogisticRegression(random_state = 0, max_iter=10000)\n",
        "classifier.fit(X_train, y_train)\n",
        "y_pred = classifier.predict(X_test)\n",
        "acc_logistic = round((metrics.accuracy_score(y_test, y_pred)),4)\n",
        "precision_logistic = round((metrics.precision_score(y_test, y_pred, average = 'macro')),4)\n",
        "f1_logistic = round((metrics.f1_score(y_test, y_pred, average = 'macro')),4)\n",
        "recall_logistic = round((metrics.recall_score(y_test, y_pred, average = 'macro')),4)\n",
        "\n",
        "k_range = range(1, 30, 2)\n",
        "accs = []\n",
        "precision = []\n",
        "recall = []\n",
        "f1 = []\n",
        "for k in k_range:\n",
        "  KNN = KNeighborsClassifier(n_neighbors = k)\n",
        "  KNN.fit(X_train, y_train)\n",
        "  y_pred = KNN.predict(X_test)\n",
        "  accs.append(metrics.accuracy_score(y_test, y_pred))\n",
        "  precision.append(metrics.precision_score(y_test, y_pred, average = 'micro'))\n",
        "  recall.append(metrics.recall_score(y_test, y_pred, average = 'micro'))\n",
        "  f1.append(metrics.f1_score(y_test, y_pred, average = 'micro'))\n",
        "acc_knn = round(max(accs),4)\n",
        "precision_knn = round(max(precision),4)\n",
        "f1_knn = round(max(f1),4)\n",
        "recall_knn = round(max(recall),4)\n",
        "\n",
        "dtree = DecisionTreeClassifier()\n",
        "dtree.fit(X_train, y_train)\n",
        "y_pred = dtree.predict(X_test)\n",
        "acc_dtree = round((metrics.accuracy_score(y_test, y_pred)),4)\n",
        "precision_dtree = round((metrics.precision_score(y_test, y_pred, average = 'macro')),4)\n",
        "f1_dtree = round((metrics.f1_score(y_test, y_pred, average = 'macro')),4)\n",
        "recall_dtree = round((metrics.recall_score(y_test, y_pred, average = 'macro')),4)\n",
        "\n",
        "t = PrettyTable(['','acc','precision','recall','f1'])\n",
        "t.add_row(['kNN',acc_knn,precision_knn,recall_knn,f1_knn])\n",
        "t.add_row(['Decision Tree',acc_dtree,precision_dtree,recall_dtree,f1_dtree])\n",
        "t.add_row(['Logistic Regression',acc_logistic,precision_logistic,recall_logistic,f1_logistic])\n",
        "t.add_row(['SMV',acc_smv,precision_smv,recall_smv,f1_smv])\n",
        "print(t)\n",
        "\n",
        "print(metrics.classification_report(y_test, y_pred))"
      ],
      "metadata": {
        "colab": {
          "base_uri": "https://localhost:8080/"
        },
        "id": "9CT3zMYTnwMD",
        "outputId": "52276998-d329-43a6-f741-58c7f4c384ca"
      },
      "execution_count": 2,
      "outputs": [
        {
          "output_type": "stream",
          "name": "stdout",
          "text": [
            "+---------------------+--------+-----------+--------+--------+\n",
            "|                     |  acc   | precision | recall |   f1   |\n",
            "+---------------------+--------+-----------+--------+--------+\n",
            "|         kNN         | 0.9357 |   0.9357  | 0.9357 | 0.9357 |\n",
            "|    Decision Tree    | 0.9474 |   0.9615  | 0.9286 | 0.9415 |\n",
            "| Logistic Regression | 0.9474 |   0.948   | 0.9385 | 0.9429 |\n",
            "|         SMV         | 0.9532 |   0.9563  | 0.9431 | 0.949  |\n",
            "+---------------------+--------+-----------+--------+--------+\n",
            "              precision    recall  f1-score   support\n",
            "\n",
            "           0       1.00      0.86      0.92        63\n",
            "           1       0.92      1.00      0.96       108\n",
            "\n",
            "    accuracy                           0.95       171\n",
            "   macro avg       0.96      0.93      0.94       171\n",
            "weighted avg       0.95      0.95      0.95       171\n",
            "\n"
          ]
        }
      ]
    },
    {
      "cell_type": "markdown",
      "source": [
        "#Task 2. \n",
        "\n",
        "*   1.1.\tPerform SVM algorithm to **Iris dataset** using **linear kernel**.\n",
        "*   1.2.\tCompare the obtained results in 1.1 with SVM using other kernels (**Polynomial Kernel, Gaussian Kernel, Sigmoid Kernel, Radial Basis Function Kernel**). Some metrics could be used: accuracy, precision, recall, f1 measures\n",
        "\n",
        "\n",
        "\n"
      ],
      "metadata": {
        "id": "S43IoUT-0OQq"
      }
    },
    {
      "cell_type": "code",
      "source": [
        "from scipy.sparse import data\n",
        "data_iris = datasets.load_iris()\n",
        "X = data_iris.data\n",
        "y = data_iris.target\n",
        "X_train, X_test, y_train, y_test = train_test_split(X, y, test_size=0.3, random_state = 1)\n",
        "clf = svm.SVC(kernel='linear')\n",
        "clf.fit(X_train, y_train)\n",
        "y_pred = clf.predict(X_test)\n",
        "acc_linear = metrics.accuracy_score(y_test, y_pred)\n",
        "precision_linear = metrics.precision_score(y_test, y_pred, average='micro')\n",
        "recall_linear = metrics.recall_score(y_test, y_pred, average='micro')\n",
        "f1_linear = metrics.f1_score(y_test, y_pred, average='micro')"
      ],
      "metadata": {
        "id": "_xhPpF5b033h"
      },
      "execution_count": 3,
      "outputs": []
    },
    {
      "cell_type": "code",
      "source": [
        "clf = svm.SVC(kernel='poly', degree=3)\n",
        "clf.fit(X_train, y_train)\n",
        "y_pred = clf.predict(X_test)\n",
        "acc_poly = round(metrics.accuracy_score(y_test, y_pred),4)\n",
        "precision_poly = round(metrics.precision_score(y_test, y_pred, average='micro'),4)\n",
        "recall_poly = round(metrics.recall_score(y_test, y_pred, average='micro'),4)\n",
        "f1_poly = round(metrics.f1_score(y_test, y_pred, average='micro'),4)\n",
        "\n",
        "clf = svm.SVC(kernel='sigmoid', degree=4)\n",
        "clf.fit(X_train, y_train)\n",
        "y_pred = clf.predict(X_test)\n",
        "acc_sigmoid = round(metrics.accuracy_score(y_test, y_pred),4)\n",
        "precision_sigmoid = round(metrics.precision_score(y_test, y_pred, average='micro'),4)\n",
        "recall_sigmoid = round(metrics.recall_score(y_test, y_pred, average='micro'),4)\n",
        "f1_sigmoid = round(metrics.f1_score(y_test, y_pred, average='micro'),4)\n",
        "\n",
        "clf = svm.SVC(kernel='rbf')\n",
        "clf.fit(X_train, y_train)\n",
        "y_pred = clf.predict(X_test)\n",
        "acc_rbf = round(metrics.accuracy_score(y_test, y_pred),4)\n",
        "precision_rbf = round(metrics.precision_score(y_test, y_pred, average='micro'),4)\n",
        "recall_rbf = round(metrics.recall_score(y_test, y_pred, average='micro'),4)\n",
        "f1_rbf = round(metrics.f1_score(y_test, y_pred, average='micro'),4)\n",
        "\n",
        "t = PrettyTable(['','acc','precision','recall','f1'])\n",
        "t.add_row(['linear',acc_linear,precision_linear,recall_linear,f1_linear])\n",
        "t.add_row(['sigmoid',acc_sigmoid,precision_sigmoid,recall_sigmoid,f1_sigmoid])\n",
        "t.add_row(['poly',acc_poly,precision_poly,recall_poly,f1_poly])\n",
        "t.add_row(['rbf',acc_rbf,precision_rbf,recall_rbf,f1_rbf])\n",
        "print(t)"
      ],
      "metadata": {
        "colab": {
          "base_uri": "https://localhost:8080/"
        },
        "id": "sUzutaq0AayI",
        "outputId": "593531fa-74a8-4a94-d186-c4b8a8ac5931"
      },
      "execution_count": 4,
      "outputs": [
        {
          "output_type": "stream",
          "name": "stdout",
          "text": [
            "+---------+--------+-----------+--------+--------+\n",
            "|         |  acc   | precision | recall |   f1   |\n",
            "+---------+--------+-----------+--------+--------+\n",
            "|  linear |  1.0   |    1.0    |  1.0   |  1.0   |\n",
            "| sigmoid | 0.2889 |   0.2889  | 0.2889 | 0.2889 |\n",
            "|   poly  | 0.9778 |   0.9778  | 0.9778 | 0.9778 |\n",
            "|   rbf   | 0.9778 |   0.9778  | 0.9778 | 0.9778 |\n",
            "+---------+--------+-----------+--------+--------+\n"
          ]
        }
      ]
    },
    {
      "cell_type": "markdown",
      "source": [
        "#Task 3. \n",
        "Compare the performance of selected classification algorithms (Decision Tree, kNN, Logistic Regression) and SVM (using different kernels) with mnist dataset based on accuracy, precision, recall, f1 measures.\n"
      ],
      "metadata": {
        "id": "b52OPWPD2afi"
      }
    },
    {
      "cell_type": "code",
      "source": [
        "data_mnist = datasets.load_digits()\n",
        "X = data_mnist.data\n",
        "y = data_mnist.target\n",
        "X_train, X_test, y_train, y_test = train_test_split(X, y, test_size=0.3, random_state = 1)\n",
        "clf = svm.SVC(kernel='rbf')\n",
        "clf.fit(X_train, y_train)\n",
        "y_pred = clf.predict(X_test)\n",
        "acc_svm = metrics.accuracy_score(y_test, y_pred)\n",
        "precision_svm = metrics.precision_score(y_test, y_pred, average='micro')\n",
        "recall_svm = metrics.recall_score(y_test, y_pred, average='micro')\n",
        "f1_svm = metrics.f1_score(y_test, y_pred, average='micro')\n",
        "\n",
        "dtree = DecisionTreeClassifier()\n",
        "dtree.fit(X_train, y_train)\n",
        "y_pred = dtree.predict(X_test)\n",
        "acc_dtree = round((metrics.accuracy_score(y_test, y_pred)),4)\n",
        "precision_dtree = round((metrics.precision_score(y_test, y_pred, average = 'macro')),4)\n",
        "f1_dtree = round((metrics.f1_score(y_test, y_pred, average = 'macro')),4)\n",
        "recall_dtree = round((metrics.recall_score(y_test, y_pred, average = 'macro')),4)\n",
        "\n",
        "k_range = range(1, 30, 2)\n",
        "accs = []\n",
        "precision = []\n",
        "recall = []\n",
        "f1 = []\n",
        "for k in k_range:\n",
        "  KNN = KNeighborsClassifier(n_neighbors = k)\n",
        "  KNN.fit(X_train, y_train)\n",
        "  y_pred = KNN.predict(X_test)\n",
        "  accs.append(metrics.accuracy_score(y_test, y_pred))\n",
        "  precision.append(metrics.precision_score(y_test, y_pred, average = 'micro'))\n",
        "  recall.append(metrics.recall_score(y_test, y_pred, average = 'micro'))\n",
        "  f1.append(metrics.f1_score(y_test, y_pred, average = 'micro'))\n",
        "acc_knn = round(max(accs),4)\n",
        "precision_knn = round(max(precision),4)\n",
        "f1_knn = round(max(f1),4)\n",
        "recall_knn = round(max(recall),4)\n",
        "\n",
        "classifier = LogisticRegression(random_state = 0, max_iter=10000)\n",
        "classifier.fit(X_train, y_train)\n",
        "y_pred = classifier.predict(X_test)\n",
        "acc_logistic = round((metrics.accuracy_score(y_test, y_pred)),4)\n",
        "precision_logistic = round((metrics.precision_score(y_test, y_pred, average = 'macro')),4)\n",
        "f1_logistic = round((metrics.f1_score(y_test, y_pred, average = 'macro')),4)\n",
        "recall_logistic = round((metrics.recall_score(y_test, y_pred, average = 'macro')),4)\n",
        "\n",
        "t = PrettyTable(['','acc','precision','recall','f1'])\n",
        "t.add_row(['kNN',acc_knn,precision_knn,recall_knn,f1_knn])\n",
        "t.add_row(['Decision Tree',acc_dtree,precision_dtree,recall_dtree,f1_dtree])\n",
        "t.add_row(['Logistic Regression',acc_logistic,precision_logistic,recall_logistic,f1_logistic])\n",
        "t.add_row(['SMV',acc_smv,precision_smv,recall_smv,f1_smv])\n",
        "print(t)\n"
      ],
      "metadata": {
        "colab": {
          "base_uri": "https://localhost:8080/"
        },
        "id": "Thz7AhjZUAUc",
        "outputId": "f711e5cb-9f00-4193-a554-3cb8c075c7aa"
      },
      "execution_count": 5,
      "outputs": [
        {
          "output_type": "stream",
          "name": "stdout",
          "text": [
            "+---------------------+--------+-----------+--------+--------+\n",
            "|                     |  acc   | precision | recall |   f1   |\n",
            "+---------------------+--------+-----------+--------+--------+\n",
            "|         kNN         | 0.9907 |   0.9907  | 0.9907 | 0.9907 |\n",
            "|    Decision Tree    |  0.85  |   0.8506  | 0.8519 |  0.85  |\n",
            "| Logistic Regression | 0.9685 |   0.9673  | 0.9681 | 0.9674 |\n",
            "|         SMV         | 0.9532 |   0.9563  | 0.9431 | 0.949  |\n",
            "+---------------------+--------+-----------+--------+--------+\n"
          ]
        }
      ]
    },
    {
      "cell_type": "markdown",
      "source": [
        "#Task 4. \n",
        "Compare the performance of selected classification algorithms (Decision Tree, kNN, Logistic Regression) and SVM (using different kernels) with **credit card dataset** based on accuracy, precision, recall, f1 measures.\n",
        "\n",
        "*   Give some comments on the obtained results\n",
        "*   Identify issues with dataset, and propose the solutions to these issues\n",
        "\n"
      ],
      "metadata": {
        "id": "Z5pp7_h-aP2u"
      }
    },
    {
      "cell_type": "code",
      "source": [
        "from google.colab import drive\n",
        "drive.mount('/content/gdrive')\n",
        "%cd '/content/gdrive/MyDrive/ML_2023/Lab5'"
      ],
      "metadata": {
        "id": "Rw_-8FIf2KxW",
        "colab": {
          "base_uri": "https://localhost:8080/"
        },
        "outputId": "15dc06db-6274-4632-f12c-8fae808f4196"
      },
      "execution_count": 6,
      "outputs": [
        {
          "output_type": "stream",
          "name": "stdout",
          "text": [
            "Mounted at /content/gdrive\n",
            "/content/gdrive/MyDrive/ML_2023/Lab5\n"
          ]
        }
      ]
    },
    {
      "cell_type": "code",
      "source": [
        "import pandas as pd\n",
        "dataset = pd.read_csv(\"creditcard.csv\", sep=\",\")\n",
        "data_credit = dataset.head(10000)\n",
        "X = data_credit[['Time', 'V1', 'V2', 'V3', 'V4', 'V5', 'V6', 'V7', 'V8', 'V9', 'V10',\n",
        "       'V11', 'V12', 'V13', 'V14', 'V15', 'V16', 'V17', 'V18', 'V19', 'V20',\n",
        "       'V21', 'V22', 'V23', 'V24', 'V25', 'V26', 'V27', 'V28', 'Amount']]\n",
        "y = data_credit[['Class']]\n",
        "X_train, X_test, y_train, y_test = train_test_split(X, y, test_size=0.3, random_state = 1)"
      ],
      "metadata": {
        "id": "aGmPFf5wXpaZ"
      },
      "execution_count": 7,
      "outputs": []
    },
    {
      "cell_type": "code",
      "source": [
        "clf = svm.SVC(kernel='rbf')\n",
        "clf.fit(X_train, y_train)\n",
        "y_pred = clf.predict(X_test)\n",
        "acc_svm = metrics.accuracy_score(y_test, y_pred)\n",
        "precision_svm = metrics.precision_score(y_test, y_pred, average='micro')\n",
        "recall_svm = metrics.recall_score(y_test, y_pred, average='micro')\n",
        "f1_svm = metrics.f1_score(y_test, y_pred, average='micro')"
      ],
      "metadata": {
        "colab": {
          "base_uri": "https://localhost:8080/"
        },
        "id": "5MxLg38wcgjL",
        "outputId": "d1643d3f-5ec2-4c3a-821a-58f5d218ebdb"
      },
      "execution_count": 8,
      "outputs": [
        {
          "output_type": "stream",
          "name": "stderr",
          "text": [
            "/usr/local/lib/python3.9/dist-packages/sklearn/utils/validation.py:1143: DataConversionWarning: A column-vector y was passed when a 1d array was expected. Please change the shape of y to (n_samples, ), for example using ravel().\n",
            "  y = column_or_1d(y, warn=True)\n"
          ]
        }
      ]
    },
    {
      "cell_type": "code",
      "source": [
        "dtree = DecisionTreeClassifier()\n",
        "dtree.fit(X_train, y_train)\n",
        "y_pred = dtree.predict(X_test)\n",
        "acc_dtree = round((metrics.accuracy_score(y_test, y_pred)),4)\n",
        "precision_dtree = round((metrics.precision_score(y_test, y_pred, average = 'macro')),4)\n",
        "f1_dtree = round((metrics.f1_score(y_test, y_pred, average = 'macro')),4)\n",
        "recall_dtree = round((metrics.recall_score(y_test, y_pred, average = 'macro')),4)\n",
        "\n",
        "k_range = range(1, 30, 2)\n",
        "accs = []\n",
        "precision = []\n",
        "recall = []\n",
        "f1 = []\n",
        "for k in k_range:\n",
        "  KNN = KNeighborsClassifier(n_neighbors = k)\n",
        "  KNN.fit(X_train, y_train)\n",
        "  y_pred = KNN.predict(X_test)\n",
        "  accs.append(metrics.accuracy_score(y_test, y_pred))\n",
        "  precision.append(metrics.precision_score(y_test, y_pred, average = 'micro'))\n",
        "  recall.append(metrics.recall_score(y_test, y_pred, average = 'micro'))\n",
        "  f1.append(metrics.f1_score(y_test, y_pred, average = 'micro'))\n",
        "acc_knn = round(max(accs),4)\n",
        "precision_knn = round(max(precision),4)\n",
        "f1_knn = round(max(f1),4)\n",
        "recall_knn = round(max(recall),4)\n",
        "\n",
        "classifier = LogisticRegression(random_state = 0, max_iter=10000)\n",
        "classifier.fit(X_train, y_train)\n",
        "y_pred = classifier.predict(X_test)\n",
        "acc_logistic = round((metrics.accuracy_score(y_test, y_pred)),4)\n",
        "precision_logistic = round((metrics.precision_score(y_test, y_pred, average = 'macro')),4)\n",
        "f1_logistic = round((metrics.f1_score(y_test, y_pred, average = 'macro')),4)\n",
        "recall_logistic = round((metrics.recall_score(y_test, y_pred, average = 'macro')),4)\n",
        "\n",
        "t = PrettyTable(['','acc','precision','recall','f1'])\n",
        "t.add_row(['kNN',acc_knn,precision_knn,recall_knn,f1_knn])\n",
        "t.add_row(['Decision Tree',acc_dtree,precision_dtree,recall_dtree,f1_dtree])\n",
        "t.add_row(['Logistic Regression',acc_logistic,precision_logistic,recall_logistic,f1_logistic])\n",
        "t.add_row(['SMV',acc_smv,precision_smv,recall_smv,f1_smv])\n",
        "print(t)"
      ],
      "metadata": {
        "colab": {
          "base_uri": "https://localhost:8080/"
        },
        "id": "SQA7csSgXtjQ",
        "outputId": "198f4ace-e334-431f-aee3-2bc13d4716bd"
      },
      "execution_count": 9,
      "outputs": [
        {
          "output_type": "stream",
          "name": "stderr",
          "text": [
            "/usr/local/lib/python3.9/dist-packages/sklearn/neighbors/_classification.py:215: DataConversionWarning: A column-vector y was passed when a 1d array was expected. Please change the shape of y to (n_samples,), for example using ravel().\n",
            "  return self._fit(X, y)\n",
            "/usr/local/lib/python3.9/dist-packages/sklearn/neighbors/_classification.py:215: DataConversionWarning: A column-vector y was passed when a 1d array was expected. Please change the shape of y to (n_samples,), for example using ravel().\n",
            "  return self._fit(X, y)\n",
            "/usr/local/lib/python3.9/dist-packages/sklearn/neighbors/_classification.py:215: DataConversionWarning: A column-vector y was passed when a 1d array was expected. Please change the shape of y to (n_samples,), for example using ravel().\n",
            "  return self._fit(X, y)\n",
            "/usr/local/lib/python3.9/dist-packages/sklearn/neighbors/_classification.py:215: DataConversionWarning: A column-vector y was passed when a 1d array was expected. Please change the shape of y to (n_samples,), for example using ravel().\n",
            "  return self._fit(X, y)\n",
            "/usr/local/lib/python3.9/dist-packages/sklearn/neighbors/_classification.py:215: DataConversionWarning: A column-vector y was passed when a 1d array was expected. Please change the shape of y to (n_samples,), for example using ravel().\n",
            "  return self._fit(X, y)\n",
            "/usr/local/lib/python3.9/dist-packages/sklearn/neighbors/_classification.py:215: DataConversionWarning: A column-vector y was passed when a 1d array was expected. Please change the shape of y to (n_samples,), for example using ravel().\n",
            "  return self._fit(X, y)\n",
            "/usr/local/lib/python3.9/dist-packages/sklearn/neighbors/_classification.py:215: DataConversionWarning: A column-vector y was passed when a 1d array was expected. Please change the shape of y to (n_samples,), for example using ravel().\n",
            "  return self._fit(X, y)\n",
            "/usr/local/lib/python3.9/dist-packages/sklearn/neighbors/_classification.py:215: DataConversionWarning: A column-vector y was passed when a 1d array was expected. Please change the shape of y to (n_samples,), for example using ravel().\n",
            "  return self._fit(X, y)\n",
            "/usr/local/lib/python3.9/dist-packages/sklearn/neighbors/_classification.py:215: DataConversionWarning: A column-vector y was passed when a 1d array was expected. Please change the shape of y to (n_samples,), for example using ravel().\n",
            "  return self._fit(X, y)\n",
            "/usr/local/lib/python3.9/dist-packages/sklearn/neighbors/_classification.py:215: DataConversionWarning: A column-vector y was passed when a 1d array was expected. Please change the shape of y to (n_samples,), for example using ravel().\n",
            "  return self._fit(X, y)\n",
            "/usr/local/lib/python3.9/dist-packages/sklearn/neighbors/_classification.py:215: DataConversionWarning: A column-vector y was passed when a 1d array was expected. Please change the shape of y to (n_samples,), for example using ravel().\n",
            "  return self._fit(X, y)\n",
            "/usr/local/lib/python3.9/dist-packages/sklearn/neighbors/_classification.py:215: DataConversionWarning: A column-vector y was passed when a 1d array was expected. Please change the shape of y to (n_samples,), for example using ravel().\n",
            "  return self._fit(X, y)\n",
            "/usr/local/lib/python3.9/dist-packages/sklearn/neighbors/_classification.py:215: DataConversionWarning: A column-vector y was passed when a 1d array was expected. Please change the shape of y to (n_samples,), for example using ravel().\n",
            "  return self._fit(X, y)\n",
            "/usr/local/lib/python3.9/dist-packages/sklearn/neighbors/_classification.py:215: DataConversionWarning: A column-vector y was passed when a 1d array was expected. Please change the shape of y to (n_samples,), for example using ravel().\n",
            "  return self._fit(X, y)\n",
            "/usr/local/lib/python3.9/dist-packages/sklearn/neighbors/_classification.py:215: DataConversionWarning: A column-vector y was passed when a 1d array was expected. Please change the shape of y to (n_samples,), for example using ravel().\n",
            "  return self._fit(X, y)\n",
            "/usr/local/lib/python3.9/dist-packages/sklearn/utils/validation.py:1143: DataConversionWarning: A column-vector y was passed when a 1d array was expected. Please change the shape of y to (n_samples, ), for example using ravel().\n",
            "  y = column_or_1d(y, warn=True)\n"
          ]
        },
        {
          "output_type": "stream",
          "name": "stdout",
          "text": [
            "+---------------------+--------+-----------+--------+--------+\n",
            "|                     |  acc   | precision | recall |   f1   |\n",
            "+---------------------+--------+-----------+--------+--------+\n",
            "|         kNN         | 0.997  |   0.997   | 0.997  | 0.997  |\n",
            "|    Decision Tree    | 0.9983 |   0.8497  | 0.8884 | 0.868  |\n",
            "| Logistic Regression | 0.9993 |   0.9997  | 0.8889 | 0.9373 |\n",
            "|         SMV         | 0.9532 |   0.9563  | 0.9431 | 0.949  |\n",
            "+---------------------+--------+-----------+--------+--------+\n"
          ]
        }
      ]
    },
    {
      "cell_type": "markdown",
      "source": [
        "#Finally,\n",
        "Save a copy in your Github. Remember renaming the notebook."
      ],
      "metadata": {
        "id": "Ok7RGkea_b7n"
      }
    }
  ]
}